{
 "cells": [
  {
   "cell_type": "markdown",
   "metadata": {
    "collapsed": true
   },
   "source": [
    "# Analysis of flow at Lees Ferry on the Colorado River"
   ]
  },
  {
   "cell_type": "markdown",
   "metadata": {},
   "source": [
    "Import the necessary Python libraries for the analysis"
   ]
  },
  {
   "cell_type": "code",
   "execution_count": 6,
   "metadata": {},
   "outputs": [],
   "source": [
    "from suds.client import Client\n",
    "from pandas import Series\n",
    "import matplotlib.pyplot as plt\n",
    "import matplotlib.ticker"
   ]
  },
  {
   "cell_type": "markdown",
   "metadata": {},
   "source": [
    "Create the inputs needed for the web service call"
   ]
  },
  {
   "cell_type": "code",
   "execution_count": 7,
   "metadata": {},
   "outputs": [],
   "source": [
    "wsdlURL = 'http://hydroportal.cuahsi.org/nwisuv/cuahsi_1_1.asmx?WSDL'\n",
    "siteCode = 'NWISUV:09380000'    # gage ID for Colorado River at Lees Ferry\n",
    "variableCode = 'NWISUV:00060'   # USGS code for discharge\n",
    "beginDate = '2018-08-01'        # Time window for the plots\n",
    "endDate = '2018-11-13'"
   ]
  },
  {
   "cell_type": "markdown",
   "metadata": {},
   "source": [
    "Create a dataframe based off the web service call inputs"
   ]
  },
  {
   "cell_type": "code",
   "execution_count": 8,
   "metadata": {},
   "outputs": [],
   "source": [
    "NWIS = Client(wsdlURL).service\n",
    "# Call the GetValuesObject method to return datavalues\n",
    "response = NWIS.GetValuesObject(siteCode, variableCode, beginDate, endDate)\n",
    "# Get the site's name from the response\n",
    "siteName = response.timeSeries[0].sourceInfo.siteName\n",
    "# Create some blank lists in which to put the values and their dates\n",
    "a = []  # The values\n",
    "b = []  # The dates\n",
    "# Get the values and their dates from the web service response\n",
    "values = response.timeSeries[0].values[0].value\n",
    "# Loop through the values and load into the blank lists using append\n",
    "for v in values:\n",
    "    a.append(float(v.value))\n",
    "    b.append(v._dateTime)\n",
    "\n",
    "# Create a Pandas Series object from the lists\n",
    "# Set the index of the Series object to the dates\n",
    "ts = Series(a, index=b)"
   ]
  },
  {
   "cell_type": "markdown",
   "metadata": {},
   "source": [
    "Resample by the day and find the average, minimum, and maximum flow."
   ]
  },
  {
   "cell_type": "code",
   "execution_count": 9,
   "metadata": {},
   "outputs": [],
   "source": [
    "tsAvg = ts.resample(rule='1D', base=0).mean()   # The daily average value for the 15 minute values\n",
    "tsMin = ts.resample(rule='1D', base=0).min()    # The minimum value for that day\n",
    "tsMax = ts.resample(rule='1D', base=0).max()    # The maximum value for that day"
   ]
  },
  {
   "cell_type": "markdown",
   "metadata": {},
   "source": [
    "Create a plot that displays the daily average, minimum, and maximum flows seen at Lees Ferry"
   ]
  },
  {
   "cell_type": "code",
   "execution_count": 10,
   "metadata": {},
   "outputs": [],
   "source": [
    "# Generate a plot of the data subsets\n",
    "fig = plt.figure(figsize=(6.5,7)) # figsize(width,height)\n",
    "ax = fig.add_subplot(1, 1, 1)\n",
    "# Add data sets to the plot\n",
    "ts.plot(ax=ax, use_index=True, style='-', label='15-minute flow', color='lightgrey')\n",
    "tsAvg.plot(ax=ax, kind='line', use_index=True, style='-',\n",
    "           marker='^', label='Average Daily Flow', color='blue')\n",
    "tsMax.plot(ax=ax, kind='line', use_index=True, style='-',\n",
    "           marker='.', label='Maximum Daily Flow', color='red')\n",
    "tsMin.plot(ax=ax, kind='line', use_index=True, style='-',\n",
    "           marker='.', label='Minimum Daily Flow', color='black')\n",
    "\n",
    "# Add commas to the values in the y-axis\n",
    "ax.get_yaxis().set_major_formatter(\n",
    "    matplotlib.ticker.FuncFormatter(lambda y, p: format(int(y), ',')))\n",
    "# Add labels to the plot\n",
    "ax.set_ylabel('Discharge, cubic feet per second')\n",
    "ax.set_xlabel('Date')\n",
    "# Add a grid\n",
    "ax.grid(True)\n",
    "# Add a legend\n",
    "legend = ax.legend(loc='upper left', shadow=True)\n",
    "# Add a title\n",
    "plt.title('Flow at %s' % (siteName))\n",
    "fig.tight_layout()\n",
    "# Make sure the plot displays\n",
    "plt.show()"
   ]
  },
  {
   "cell_type": "code",
   "execution_count": 5,
   "metadata": {},
   "outputs": [],
   "source": []
  },
  {
   "cell_type": "code",
   "execution_count": null,
   "metadata": {},
   "outputs": [],
   "source": []
  }
 ],
 "metadata": {
  "kernelspec": {
   "display_name": "Python 2",
   "language": "python",
   "name": "python2"
  },
  "language_info": {
   "codemirror_mode": {
    "name": "ipython",
    "version": 2
   },
   "file_extension": ".py",
   "mimetype": "text/x-python",
   "name": "python",
   "nbconvert_exporter": "python",
   "pygments_lexer": "ipython2",
   "version": "2.7.6"
  }
 },
 "nbformat": 4,
 "nbformat_minor": 0
}
