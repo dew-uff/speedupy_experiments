{
 "cells": [
  {
   "cell_type": "markdown",
   "metadata": {},
   "source": [
    "## Accessing Hydrologic Data Via Web Services\n",
    "\n",
    "This script demonstrates how to access USGS flow data via the CUAHSI Hydroserver\n",
    "and plot the minimum, maximum, average, and 15-minute flow data\n"
   ]
  },
  {
   "cell_type": "markdown",
   "metadata": {},
   "source": [
    "### Required packages\n",
    "This script uses the suds-py3 package to access data from the CUAHSI Hydroserver and the USGS. Pandas will perform the \n",
    "resampling, and visualizations will be created with matplotlib. Finally, the \n",
    "_datetime package will parse the date data and allow us to specify time intervals for the\n",
    "final visualization.\n",
    "\n"
   ]
  },
  {
   "cell_type": "code",
   "execution_count": 1,
   "metadata": {
    "pycharm": {
     "is_executing": false,
     "name": "#%%\n"
    }
   },
   "outputs": [],
   "source": [
    "from suds.client import Client\n",
    "from pandas import Series\n",
    "import matplotlib.pyplot as plt\n",
    "from _datetime import datetime\n"
   ]
  },
  {
   "cell_type": "markdown",
   "metadata": {},
   "source": [
    "### Assigning Data Objects\n",
    "\n",
    "Here we specify the webservice that will extract the data, a site code, a variable code, and the desired dates. \n",
    "This script uses the USGS gage station on Bonita Creek in Irvine, California and the variable code for \n",
    "flow. Using Pandas and Datetime, we can extract data from August 8, 2019 to the current date.\n"
   ]
  },
  {
   "cell_type": "code",
   "execution_count": 2,
   "metadata": {
    "pycharm": {
     "is_executing": false,
     "name": "#%%\n"
    }
   },
   "outputs": [],
   "source": [
    "wsdlURL = 'http://hydroportal.cuahsi.org/nwisuv/cuahsi_1_1.asmx?WSDL'\n",
    "siteCode = 'NWISUV:11048600'\n",
    "variableCode = 'NWISUV:00060' # code for flow\n",
    "beginDate = '2019-08-01'\n",
    "endDate = datetime.now().isoformat()\n"
   ]
  },
  {
   "cell_type": "markdown",
   "metadata": {},
   "source": [
    "### Extracting Variables with CUAHSI\n",
    "Using the CUAHSI Hydroserver, the suds client can access flow data from the USGS and import it directly into Python. \n",
    "We first create a new object named \"NWIS\" for calling the web service methods. We then use the GetValuesObject method to \n",
    "return the flow data for Bonita Creek in Irvine, California from August 8, 2019 until now.\n"
   ]
  },
  {
   "cell_type": "code",
   "execution_count": 3,
   "metadata": {
    "pycharm": {
     "is_executing": false,
     "name": "#%%\n"
    }
   },
   "outputs": [],
   "source": [
    "NWIS = Client(wsdlURL).service\n",
    "\n",
    "response = NWIS.GetValuesObject(siteCode, variableCode, beginDate, endDate)"
   ]
  },
  {
   "cell_type": "markdown",
   "metadata": {},
   "source": [
    "### Indexing Site Name\n",
    "Using Pandas, we extract the site name from the data by indexing the first element of the web service response\n",
    "created above."
   ]
  },
  {
   "cell_type": "code",
   "execution_count": 4,
   "metadata": {
    "pycharm": {
     "is_executing": false,
     "name": "#%%\n"
    }
   },
   "outputs": [],
   "source": [
    "siteName = response.timeSeries[0].sourceInfo.siteName\n",
    "\n"
   ]
  },
  {
   "cell_type": "markdown",
   "metadata": {},
   "source": [
    "### Creating Lists for Storing Data\n",
    "We will soon index the flow and date values from the web series response in a similar manner to how we extracted the \n",
    "site name. We must first create empty lists to store the indexed flow and date values.\n"
   ]
  },
  {
   "cell_type": "code",
   "execution_count": 5,
   "metadata": {
    "pycharm": {
     "is_executing": false,
     "name": "#%%\n"
    }
   },
   "outputs": [],
   "source": [
    "flow = []  # The values\n",
    "dates = []  # The dates\n",
    "\n"
   ]
  },
  {
   "cell_type": "markdown",
   "metadata": {},
   "source": [
    "### Indexing Flow Values and Dates\n",
    "Now we will index the flow values and their associated dates from the web service response.\n"
   ]
  },
  {
   "cell_type": "code",
   "execution_count": 6,
   "metadata": {
    "pycharm": {
     "is_executing": false,
     "name": "#%%\n"
    }
   },
   "outputs": [],
   "source": [
    "values = response.timeSeries[0].values[0].value\n",
    "\n"
   ]
  },
  {
   "cell_type": "markdown",
   "metadata": {},
   "source": [
    "### Appending Data to Lists\n",
    "We will now separate the flow and date values and put them in their respective lists using a for loop."
   ]
  },
  {
   "cell_type": "code",
   "execution_count": 7,
   "metadata": {
    "pycharm": {
     "is_executing": false,
     "name": "#%%\n"
    }
   },
   "outputs": [],
   "source": [
    "for v in values:\n",
    "    flow.append(float(v.value))\n",
    "    dates.append(v._dateTime)\n",
    "\n"
   ]
  },
  {
   "cell_type": "markdown",
   "metadata": {},
   "source": [
    "### Creating a time series Object\n",
    "Using Pandas, we will create a time series object from the flow data, using the dates as an index.\n"
   ]
  },
  {
   "cell_type": "code",
   "execution_count": 8,
   "metadata": {
    "pycharm": {
     "is_executing": false,
     "name": "#%%\n"
    }
   },
   "outputs": [],
   "source": [
    "ts = Series(flow, index=dates)\n",
    "\n"
   ]
  },
  {
   "cell_type": "markdown",
   "metadata": {},
   "source": [
    "### Resampling with Pandas\n",
    "Using the resample function from Pandas, we resample the 15-minute flow data to daily flow data and calculate the daily \n",
    "mean, minimum, and maximum flow values. \n"
   ]
  },
  {
   "cell_type": "code",
   "execution_count": 9,
   "metadata": {
    "pycharm": {
     "is_executing": false,
     "name": "#%%\n"
    }
   },
   "outputs": [],
   "source": [
    "mean_discharge = ts.resample(rule='24H', base=0).mean()\n",
    "max_discharge = ts.resample(rule='24H', base=0).max()\n",
    "min_discharge = ts.resample(rule='24H', base=0).min()\n",
    "\n"
   ]
  },
  {
   "cell_type": "markdown",
   "metadata": {},
   "source": [
    "### Creating the Figure\n",
    "Using the Matplotlib package, we will create an empty figure and axis subplot that can be populated with the flow data.\n",
    "\n",
    "Using the plot function in matplotlib, we then plot the original 15-minute data in a light color behind the resampled\n",
    "mean, max, and minumum values in green, red, and blue on the blank plot created above.\n",
    "\n",
    "Using the blank subplot, we will set a y-axis label for the discharge values, an x-axis label for the date values, \n",
    "a grid on the plot, and a title for the whole plot using the name of the site. We will also create a legend at the upper\n",
    "left of the plot with a frame around it. We also format the line width and font size for the legend.\n",
    "\n",
    "Finally the plot is displayed with the using plt.show()"
   ]
  },
  {
   "cell_type": "code",
   "execution_count": 11,
   "metadata": {
    "pycharm": {
     "is_executing": true,
     "name": "#%%\n"
    }
   },
   "outputs": [
    {
     "data": {
      "image/png": "[encoded data removed]",
      "text/plain": [
       "<Figure size 432x288 with 1 Axes>"
      ]
     },
     "metadata": {
      "needs_background": "light"
     },
     "output_type": "display_data"
    }
   ],
   "source": [
    "fig = plt.figure()\n",
    "ax = fig.add_subplot(1, 1, 1)  # arguments for add_subplot - add_subplot(nrows, ncols, plot_number)\n",
    "\n",
    "# Plotting series data\n",
    "ts.plot(color='powderblue', linestyle='solid', label='15-minute streamflow values')\n",
    "mean_discharge.plot(color='green', linestyle='solid', label='Average streamflow values')\n",
    "max_discharge.plot(color='red', linestyle='solid', label='Maximum streamflow values')\n",
    "min_discharge.plot(color='blue', linestyle='solid', label='Minimum streamflow values')\n",
    "\n",
    "# Formatting Axes\n",
    "ax.set_ylabel('Discharge, cubic feet per second')\n",
    "ax.set_xlabel('Date')\n",
    "ax.grid(True)\n",
    "ax.set_title(siteName)\n",
    "\n",
    "# Adding a legend\n",
    "legend = ax.legend(loc='upper left', shadow=True)\n",
    "frame = legend.get_frame()\n",
    "frame.set_facecolor('0.95')\n",
    "for label in legend.get_texts():\n",
    "    label.set_fontsize('large')\n",
    "\n",
    "for label in legend.get_lines():\n",
    "    label.set_linewidth(1.5)  # the legend line width\n",
    "\n",
    "# Displaying the plot\n",
    "plt.show()\n",
    "\n"
   ]
  },
  {
   "cell_type": "code",
   "execution_count": null,
   "metadata": {},
   "outputs": [],
   "source": []
  }
 ],
 "metadata": {
  "kernelspec": {
   "display_name": "Python 3",
   "language": "python",
   "name": "python3"
  },
  "language_info": {
   "codemirror_mode": {
    "name": "ipython",
    "version": 3
   },
   "file_extension": ".py",
   "mimetype": "text/x-python",
   "name": "python",
   "nbconvert_exporter": "python",
   "pygments_lexer": "ipython3",
   "version": "3.7.4"
  },
  "pycharm": {
   "stem_cell": {
    "cell_type": "raw",
    "metadata": {
     "collapsed": false
    },
    "source": []
   }
  }
 },
 "nbformat": 4,
 "nbformat_minor": 1
}
