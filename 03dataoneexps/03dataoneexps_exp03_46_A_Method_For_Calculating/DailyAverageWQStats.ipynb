{
 "cells": [
  {
   "cell_type": "markdown",
   "metadata": {
    "collapsed": true
   },
   "source": [
    "# Analysis of Daily Mean Values for Turbidity from a GAMUT Monitoring Station"
   ]
  },
  {
   "cell_type": "markdown",
   "metadata": {},
   "source": [
    "Author: Greg Goodrum\n",
    "Course: CEE6110 - Hydroinfomatics\n",
    "Instructor: Dr. Jeff Horsburgh"
   ]
  },
  {
   "cell_type": "markdown",
   "metadata": {},
   "source": [
    "Creation Date: 11-24-2018"
   ]
  },
  {
   "cell_type": "markdown",
   "metadata": {},
   "source": [
    "Description: A method for extracting data for a variable from a GAMUT monitoring station, calculating the average daily value, and plotting the result as a line chart."
   ]
  },
  {
   "cell_type": "markdown",
   "metadata": {},
   "source": [
    "Import required libraries"
   ]
  },
  {
   "cell_type": "code",
   "execution_count": null,
   "metadata": {},
   "outputs": [],
   "source": [
    "import sqlite3\n",
    "import datetime\n",
    "import matplotlib.pyplot as plt\n",
    "from pandas import Series"
   ]
  },
  {
   "cell_type": "markdown",
   "metadata": {},
   "source": [
    "Create figure for plotting"
   ]
  },
  {
   "cell_type": "code",
   "execution_count": null,
   "metadata": {},
   "outputs": [],
   "source": [
    "fig = plt.figure(figsize=(9, 6))"
   ]
  },
  {
   "cell_type": "markdown",
   "metadata": {},
   "source": [
    "Set query inputs"
   ]
  },
  {
   "cell_type": "code",
   "execution_count": null,
   "metadata": {},
   "outputs": [],
   "source": [
    "siteID = '3'\n",
    "siteName = 'Logan River at Main Street (Highway 89/91) Bridge'\n",
    "variableID1 = '9'\n",
    "variableID2 = '15'\n",
    "startDateTime = \"'2016-01-01'\"\n",
    "endDateTime = \"'2016-12-31'\""
   ]
  },
  {
   "cell_type": "markdown",
   "metadata": {},
   "source": [
    "Convert measurements and times into a pandas series"
   ]
  },
  {
   "cell_type": "code",
   "execution_count": null,
   "metadata": {},
   "outputs": [],
   "source": [
    "conn = sqlite3.connect('cee6440_ex3_loganriver.sqlite')\n",
    "sql_statement1 = 'SELECT LocalDateTime, DataValue ' \\\n",
    "                'FROM DataValues ' \\\n",
    "                'WHERE SiteID = ' + siteID + ' AND VariableID = ' + variableID1 + \\\n",
    "                ' AND LocalDateTime >= ' + startDateTime + ' AND LocalDateTime < ' + endDateTime + \\\n",
    "                ' AND QualityControlLevelID = 1 ' \\\n",
    "                'AND DataValue <> -9999 ' \\\n",
    "                'ORDER BY LocalDateTime'\n",
    "cursor = conn.cursor()\n",
    "cursor.execute(sql_statement1)\n",
    "rows = cursor.fetchall()\n",
    "localDateTimes1, dataValues1 = zip(*rows)"
   ]
  },
  {
   "cell_type": "markdown",
   "metadata": {},
   "source": [
    "Convert datetimes into readable format"
   ]
  },
  {
   "cell_type": "code",
   "execution_count": null,
   "metadata": {},
   "outputs": [],
   "source": [
    "plotDates1 = []\n",
    "for x in localDateTimes1:\n",
    "    plotDates1.append(datetime.datetime.strptime(x, '%Y-%m-%d %H:%M:%S'))"
   ]
  },
  {
   "cell_type": "markdown",
   "metadata": {},
   "source": [
    "Convert measurements and times into a pandas series"
   ]
  },
  {
   "cell_type": "code",
   "execution_count": null,
   "metadata": {},
   "outputs": [],
   "source": [
    "ts = Series(dataValues1, index=plotDates1)"
   ]
  },
  {
   "cell_type": "markdown",
   "metadata": {},
   "source": [
    "Resample data to calculate daily average"
   ]
  },
  {
   "cell_type": "code",
   "execution_count": null,
   "metadata": {},
   "outputs": [],
   "source": [
    "dailyAvg = ts.resample(rule='1D', base=0).mean()"
   ]
  },
  {
   "cell_type": "markdown",
   "metadata": {},
   "source": [
    "Plot and display results"
   ]
  },
  {
   "cell_type": "code",
   "execution_count": null,
   "metadata": {},
   "outputs": [],
   "source": [
    "# Add the first subplot to the figure\n",
    "ax = fig.add_subplot(1, 1, 1)  # (rows, columns, specific subplot assigned to ax)\n",
    "\n",
    "\n",
    "# Plot the timeseries data\n",
    "dailyAvg.plot(color='red')\n",
    "\n",
    "\n",
    "# Set properties of the first subplot\n",
    "plt.ylabel(\"Turbidity (NTU)\", color='red')\n",
    "plt.xlabel(\"Date\")\n",
    "plt.yticks(color='red')\n",
    "plt.grid(axis='y')\n",
    "plt.title(\"Average Daily Turbidity on the Logan River at Mendon Rd in 2016\")\n",
    "\n",
    "\n",
    "# Rotate the x-axis labels so they don't overlap and use matplotlib's\n",
    "# automated tight layout function to arrange layout\n",
    "plt.xticks(rotation=30)\n",
    "fig.tight_layout()\n",
    "\n",
    "# Display Plot\n",
    "plt.show()"
   ]
  }
 ],
 "metadata": {
  "kernelspec": {
   "display_name": "Python 2",
   "language": "python",
   "name": "python2"
  },
  "language_info": {
   "codemirror_mode": {
    "name": "ipython",
    "version": 2
   },
   "file_extension": ".py",
   "mimetype": "text/x-python",
   "name": "python",
   "nbconvert_exporter": "python",
   "pygments_lexer": "ipython2",
   "version": "2.7.6"
  }
 },
 "nbformat": 4,
 "nbformat_minor": 0
}
