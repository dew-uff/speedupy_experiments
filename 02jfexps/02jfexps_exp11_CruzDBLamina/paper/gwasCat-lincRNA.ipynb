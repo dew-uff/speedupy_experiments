{
 "metadata": {
  "name": "gwasCat-lincRNA"
 },
 "nbformat": 3,
 "nbformat_minor": 0,
 "worksheets": [
  {
   "cells": [
    {
     "cell_type": "code",
     "collapsed": false,
     "input": [
      "from cruzdb import Genome\n",
      "local_url = \"sqlite:///hg19.db\"\n",
      "\n",
      "#Genome('hg19').mirror(('refGene',), local_url)\n",
      "#Genome('hg19').mirror(('gwasCatalog', 'lincRNAsTranscripts'), local_url)"
     ],
     "language": "python",
     "metadata": {},
     "outputs": [],
     "prompt_number": 1
    },
    {
     "cell_type": "code",
     "collapsed": false,
     "input": [
      "hg19 = Genome(local_url)"
     ],
     "language": "python",
     "metadata": {},
     "outputs": [],
     "prompt_number": 2
    },
    {
     "cell_type": "code",
     "collapsed": false,
     "input": [
      "cols = [\"chrom\", \"chromStart\", \"chromEnd\", \"name\", \"trait\", \"genes\", \"orOrBeta\", \"pValue\"]\n",
      "hg19.dataframe('gwasCatalog')[cols].to_csv(\"gwasCatalog.txt\", sep=\"\\t\", index=False)"
     ],
     "language": "python",
     "metadata": {},
     "outputs": [],
     "prompt_number": 6
    },
    {
     "cell_type": "code",
     "collapsed": false,
     "input": [
      "with open('supplement/Additional-File-8_gwasCatalog.anno.txt', 'w') as fh:\n",
      "    hg19.annotate(\"gwasCatalog.txt\", (\"lincRNAsTranscripts\", \"refGene\"), feature_strand=True, out=fh, parallel=True)"
     ],
     "language": "python",
     "metadata": {},
     "outputs": [],
     "prompt_number": 4
    },
    {
     "cell_type": "code",
     "collapsed": false,
     "input": [
      "from toolshed import reader\n",
      "from matplotlib import pyplot as plt\n",
      "import numpy as np\n",
      "from collections import defaultdict\n",
      "\n",
      "\n",
      "linc_traits = {'closer': defaultdict(list), '10k': defaultdict(list)}\n",
      "traits = defaultdict(int)\n",
      "#linc_traits = defaultdict(list)\n",
      "#dlincs_near = []\n",
      "#dlincs_10K = []\n",
      "#dlincs = []\n",
      "\n",
      "for d in reader('supplement/Additional-File-8_gwasCatalog.anno.txt'):\n",
      "    if not ('refGene_distance') in d: continue\n",
      "    dlinc = list(set(d['lincRNAsTranscripts_distance'].split(\";\")))\n",
      "    dref = list(set(d['refGene_distance'].split(\";\")))\n",
      "    traits[d['trait']] += 1\n",
      "    assert len(dlinc) == len(dref) == 1\n",
      "    dlinc, dref = abs(int(dlinc[0])), abs(int(dref[0]))\n",
      "    # HEY: just switch the comment in these 2 lines to get either\n",
      "    # lincs where closest gene is > 10KB away or just those where linc is closer\n",
      "    #if dlinc == 0 and dref > 10000:\n",
      "    if dlinc < dref:\n",
      "        linc_traits['closer'][d['trait']].append(d)\n",
      "    if dlinc == 0 and dref > 10000:\n",
      "        linc_traits['10k'][d['trait']].append(d)\n",
      "\n",
      "       "
     ],
     "language": "python",
     "metadata": {},
     "outputs": [],
     "prompt_number": 9
    },
    {
     "cell_type": "code",
     "collapsed": false,
     "input": [
      "from operator import itemgetter\n",
      "\n",
      "ratios = {}\n",
      "for s in ('closer', '10k'):\n",
      "    ratios[s] = {}\n",
      "    traits6 = [k for k, count in traits.items() if count > 5 and len(linc_traits[s][k]) > 4]\n",
      "    print s, sum(len(linc_traits[s][k]) for k in linc_traits[s].keys())\n",
      "\n",
      "    \n",
      "    for trait in traits6:\n",
      "        ratios[s][trait] = (len(linc_traits[s][trait]) / float(traits[trait]), linc_traits[s][trait], traits[trait])\n",
      "    \n"
     ],
     "language": "python",
     "metadata": {},
     "outputs": [
      {
       "output_type": "stream",
       "stream": "stdout",
       "text": [
        "closer 2153\n",
        "10k 388\n"
       ]
      }
     ],
     "prompt_number": 19
    },
    {
     "cell_type": "code",
     "collapsed": false,
     "input": [
      "\n",
      "for k, s in enumerate(('closer', '10k'), 9):\n",
      "    outb = open('supplement/Additional-File-%i-traits-%s.txt' % (k, s), 'w')\n",
      "    for trait, (freq_linc, linc_list, count) in sorted(ratios[s].items(), key=lambda f: f[1][0], reverse=True):\n",
      "        print >>outb, \"\\t\".join(map(str, (trait, freq_linc, count, len(linc_list))))\n",
      "        for lincs in linc_list:\n",
      "            for linc in lincs[\"lincRNAsTranscripts_name\"].split(\";\"):\n",
      "                pass\n",
      "                #res = scrape_ncbi(trait, linc)\n",
      "                #if res != []:\n",
      "                #    print trait, linc, []\n",
      "    outb.close()"
     ],
     "language": "python",
     "metadata": {},
     "outputs": [],
     "prompt_number": 20
    },
    {
     "cell_type": "code",
     "collapsed": false,
     "input": [],
     "language": "python",
     "metadata": {},
     "outputs": []
    }
   ],
   "metadata": {}
  }
 ]
}