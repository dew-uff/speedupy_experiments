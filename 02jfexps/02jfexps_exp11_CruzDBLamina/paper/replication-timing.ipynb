{
 "metadata": {
  "name": "replication-timing"
 },
 "nbformat": 3,
 "nbformat_minor": 0,
 "worksheets": [
  {
   "cells": [
    {
     "cell_type": "code",
     "collapsed": false,
     "input": [
      "from cruzdb import Genome"
     ],
     "language": "python",
     "metadata": {},
     "outputs": [],
     "prompt_number": 1
    },
    {
     "cell_type": "markdown",
     "metadata": {},
     "source": [
      "We will mirror a set of tables from the UCSC mysql to a local sqlite database and load the file we've just downloaded"
     ]
    },
    {
     "cell_type": "code",
     "collapsed": false,
     "input": [
      "local_url = \"sqlite:///hg18.db\"\n",
      "tables = (\"refGene\", \"cpgIslandExt\")\n",
      "\n",
      "\n",
      "#Genome('hg18').mirror(tables, local_url)\n",
      "#Genome(local_url).load_file('wgEncodeRegTfbsClustered.bed')"
     ],
     "language": "python",
     "metadata": {},
     "outputs": [],
     "prompt_number": 2
    },
    {
     "cell_type": "markdown",
     "metadata": {},
     "source": [
      "Now we have a copy of those tables which we can access locally"
     ]
    },
    {
     "cell_type": "code",
     "collapsed": false,
     "input": [
      "hg18 = Genome(local_url)"
     ],
     "language": "python",
     "metadata": {},
     "outputs": [],
     "prompt_number": 3
    },
    {
     "cell_type": "markdown",
     "metadata": {},
     "source": [
      "We can use this local copy to annotate a pair of local files. The data is from Hansen et. al: http://www.pnas.org/content/107/1/139.full\n",
      "\n",
      "It contains intervals that are consistently replicated either early or late.\n",
      "\n",
      "The annotate command takes a file name (here the early or late intervals) and a list of tables to annotate with.\n",
      "\n",
      "The annotation will add distance and feature-type columns. For gene-like tables, the feature-type\n",
      "\n",
      "columns will list the features that overlap the interval: *exons*, *introns*, *utrs*, etc."
     ]
    },
    {
     "cell_type": "code",
     "collapsed": false,
     "input": [
      "for f in (\"data_c_constant_early.bed\", \"data_e_constant_late.bed\"):\n",
      "    with open(\"supplement/Additional-File-\" + (\"4-early.anno.bed\" if \"early\" in f else \"5-late.anno.bed\"), \"w\") as fh:\n",
      "        hg18.annotate(f, list(tables[:2]) , feature_strand=True, out=fh, parallel=True)"
     ],
     "language": "python",
     "metadata": {},
     "outputs": [],
     "prompt_number": 4
    },
    {
     "cell_type": "markdown",
     "metadata": {},
     "source": [
      "Here is what the start of one of the files looks like:"
     ]
    },
    {
     "cell_type": "code",
     "collapsed": false,
     "input": [
      "! head supplement/Additional-File-4-early.anno.bed; grep \"TSS\" supplement/Additional-File-4-early.anno.bed | head"
     ],
     "language": "python",
     "metadata": {},
     "outputs": [
      {
       "output_type": "stream",
       "stream": "stdout",
       "text": [
        "chrom\tstart\tend\trefGene_name\trefGene_distance\trefGene_feature\tcpgIslandExt_name\tcpgIslandExt_distance\tcpgIslandExt_feature\r\n",
        "chr13\t19132500\t19133500\tMPHOSPH8\t0\tintron\tCpG: 71\t26248\t\r\n",
        "chr13\t19140500\t19142500\tMPHOSPH8\t0\tintron+cds\tCpG: 71\t34248\t\r\n",
        "chr13\t19143500\t19156500\tPSPC1;MPHOSPH8\t0;0\tnc_intron+nc_exon;intron+utr3+cds\tCpG: 71\t37248\t\r\n",
        "chr13\t19442500\t19459500\tZMYM2\t0\tintron+utr5\tCpG: 159\t10870\t\r\n",
        "chr13\t19489500\t19490500\tZMYM2\t0\tintron\tCpG: 159\t57870\t\r\n",
        "chr13\t19579500\t19582500\tZMYM2\t15532\tintergenic\tCpG: 24\t-8024\t\r\n",
        "chr13\t19585500\t19586500\tZMYM2\t21532\tintergenic\tCpG: 24\t-4024\t\r\n",
        "chr13\t19587500\t19589500\tGJA3\t-20894\tintergenic\tCpG: 24\t-1024\tshore\r\n",
        "chr13\t19590500\t19606500\tGJA3\t-3894\tintergenic\tCpG: 78;CpG: 24\t0;0\tisland;island\r\n",
        "chr13\t20166500\t20179500\tIL17D\t0\tTSS+intron+utr5+cds\tCpG: 113\t0\tisland\r\n",
        "chr13\t20496500\t20548500\tLATS2\t0\tTSS+intron+utr5+cds\tCpG: 167;CpG: 28\t0;0\tisland;island\r\n",
        "chr13\t27440500\t27528500\tPRHOXNB;FLT3;CDX2\t0;0;0\tgene;intron+utr3+cds;TSS+intron+utr5+cds\tCpG: 54;CpG: 227;CpG: 143;CpG: 42\t0;0;0;0\tisland;island;island;island\r\n",
        "chr13\t27899500\t28060500\tFLT1\t0\tTSS+intron+utr5+cds\tCpG: 78;CpG: 23;CpG: 200\t0;0;0\tisland;island;island\r\n",
        "chr13\t40782500\t40819500\tNAA16\t0\tTSS+intron+utr5+cds\tCpG: 101\t0\tisland\r\n",
        "chr13\t41451500\t41529500\tDGKH;VWA8-AS1\t0;0\tTSS+intron+utr5+cds;nc_intron+nc_exon\tCpG: 105;CpG: 120;CpG: 26\t0;0;0\tisland;island;island\r\n",
        "chr13\t41554500\t41650500\tDGKH;DGKH\t0;0\tTSS+intron+utr5+cds;intron+cds\tCpG: 26\t32940\t\r\n",
        "chr13\t44451500\t44472500\tNUFIP1;KIAA1704\t0;0\tTSS+intron+utr5+cds;TSS+intron+utr5+cds\tCpG: 64\t0\tisland\r\n",
        "chr13\t44584500\t44636500\tGTF2F2\t0\tTSS+intron+utr5+cds\tCpG: 41\t0\tisland\r\n",
        "chr13\t44874500\t44943500\tSLC25A30;COG3\t0;0\tTSS+intron+utr5+cds;TSS+intron+utr5+cds\tCpG: 57;CpG: 56\t0;0\tisland;island\r\n",
        "grep: write error\r\n"
       ]
      }
     ],
     "prompt_number": 5
    },
    {
     "cell_type": "markdown",
     "metadata": {},
     "source": [
      "We define a helper function to count the number of feature-types (TSS, intron, etc) for one of these files:"
     ]
    },
    {
     "cell_type": "code",
     "collapsed": false,
     "input": [
      "from collections import Counter\n",
      "from toolshed import reader\n",
      "\n",
      "def count_features(fname):\n",
      "    feature_counts = Counter()\n",
      "    feature_counts_unique = Counter()\n",
      "    gene_counts = 0.0 # number of times a region overlaps a gene\n",
      "\n",
      "    for d in reader(fname):\n",
      "        feats = d['refGene_feature'].split(\";\")\n",
      "        flat = []\n",
      "        if feats[0] != \"intergenic\":\n",
      "            gene_counts += 1\n",
      "            \n",
      "        for f in feats:\n",
      "            flat.extend(f.split(\"+\"))\n",
      "        feature_counts.update(flat)\n",
      "        if len(flat) == 1:\n",
      "            feature_counts_unique.update(flat)\n",
      "    return feature_counts, feature_counts_unique, gene_counts\n",
      "\n",
      "def show_enrichment(early_f, late_f):\n",
      "    early, uearly, early_gene = count_features(early_f)\n",
      "    late, ulate, late_gene = count_features(late_f)\n",
      "    \n",
      "    early_intron_freq, late_intron_freq = uearly['intron'] / early_gene, ulate['intron'] / late_gene\n",
      "    return \"%.2f%%\" % (100. * late_intron_freq / early_intron_freq)\n"
     ],
     "language": "python",
     "metadata": {},
     "outputs": [],
     "prompt_number": 4
    },
    {
     "cell_type": "markdown",
     "metadata": {},
     "source": [
      "The function records any feature-type as it occurs, and whether it was the only feature. For example, this would differentiate a replicating region that overlapped an *intron* **and** an *exon* from one that overlapped only an *exon*.\n",
      "\n",
      "Below, we first note that there is a greater number of overlaps with introns in the early-replicating regions."
     ]
    },
    {
     "cell_type": "code",
     "collapsed": false,
     "input": [
      "early, uearly, early_gene = count_features('supplement/Additional-File-4-early.anno.bed')\n",
      "late, ulate, late_gene = count_features('supplement/Additional-File-5-late.anno.bed')\n",
      "\n",
      "early['intron'], late['intron']"
     ],
     "language": "python",
     "metadata": {},
     "outputs": [
      {
       "output_type": "pyout",
       "prompt_number": 5,
       "text": [
        "(9369, 4956)"
       ]
      }
     ],
     "prompt_number": 5
    },
    {
     "cell_type": "markdown",
     "metadata": {},
     "source": [
      "However, if we look at only the cases where the early or late overlap *only* an intron, and not with other features"
     ]
    },
    {
     "cell_type": "code",
     "collapsed": false,
     "input": [
      "uearly['intron'], ulate['intron']"
     ],
     "language": "python",
     "metadata": {},
     "outputs": [
      {
       "output_type": "pyout",
       "prompt_number": 6,
       "text": [
        "(2733, 2492)"
       ]
      }
     ],
     "prompt_number": 6
    },
    {
     "cell_type": "markdown",
     "metadata": {},
     "source": [
      "we see that the difference is much smaller. So, now we wish to ask: given that a region occurs anywhere in a gene, how often is it in the intron only."
     ]
    },
    {
     "cell_type": "code",
     "collapsed": false,
     "input": [
      "uearly['intron'] / early_gene, ulate['intron'] / late_gene"
     ],
     "language": "python",
     "metadata": {},
     "outputs": [
      {
       "output_type": "pyout",
       "prompt_number": 7,
       "text": [
        "(0.3074932493249325, 0.4666666666666667)"
       ]
      }
     ],
     "prompt_number": 7
    },
    {
     "cell_type": "markdown",
     "metadata": {},
     "source": [
      "So, 46.7% of **late** regions that fall within a gene, only touch an intron.\n",
      "\n",
      "and 30.7% of **early** regions that fall within a gene only touch an intron.\n",
      "\n",
      "We can guage this enrichment of late-replicating regions falling entirely within an intron"
     ]
    },
    {
     "cell_type": "code",
     "collapsed": false,
     "input": [
      "early_intron_freq, late_intron_freq = uearly['intron'] / early_gene, ulate['intron'] / late_gene\n",
      "\n",
      "\"%.2f%%\" % (100. * late_intron_freq / early_intron_freq)"
     ],
     "language": "python",
     "metadata": {},
     "outputs": [
      {
       "output_type": "pyout",
       "prompt_number": 8,
       "text": [
        "'151.76%'"
       ]
      }
     ],
     "prompt_number": 8
    },
    {
     "cell_type": "markdown",
     "metadata": {},
     "source": [
      "So we see an 152% enrichment for late-replicating regions appearing entirely within introns relative to early-replicating\n",
      "regions when we consider only those regions that occur somehwere in a gene.\n",
      "\n",
      "Below we repeat the analysis, using only genes with at least 2 exons, since we won't see the effect about without an intron.\n",
      "We encapulsated the above sequence to calculate enrichment into a single function."
     ]
    },
    {
     "cell_type": "code",
     "collapsed": false,
     "input": [
      "refGene = hg18.refGene\n",
      "from sqlalchemy import and_\n",
      "q = refGene.filter(refGene.exonStarts > 1).filter(refGene.cdsStart != refGene.cdsEnd)\n",
      "for f in (\"data_c_constant_early.bed\", \"data_e_constant_late.bed\"):\n",
      "    with open(\"supplement/Additional-File-\" + (\"6_early.introns.anno.bed\" if \"early\" in f else \"7_late.introns.anno.bed\"), \"w\") as fh:\n",
      "        hg18.annotate(f, [q] , feature_strand=True, out=fh)"
     ],
     "language": "python",
     "metadata": {},
     "outputs": [],
     "prompt_number": 9
    },
    {
     "cell_type": "code",
     "collapsed": false,
     "input": [
      "show_enrichment(\"supplement/Additional-File-6_early.introns.anno.bed\", \"supplement/Additional-File-7_late.introns.anno.bed\")"
     ],
     "language": "python",
     "metadata": {},
     "outputs": [
      {
       "output_type": "pyout",
       "prompt_number": 12,
       "text": [
        "'159.39%'"
       ]
      }
     ],
     "prompt_number": 12
    },
    {
     "cell_type": "code",
     "collapsed": false,
     "input": [
      "import cruzdb\n",
      "cruzdb"
     ],
     "language": "python",
     "metadata": {},
     "outputs": []
    },
    {
     "cell_type": "code",
     "collapsed": false,
     "input": [],
     "language": "python",
     "metadata": {},
     "outputs": []
    }
   ],
   "metadata": {}
  }
 ]
}